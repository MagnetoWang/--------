{
 "cells": [
  {
   "cell_type": "code",
   "execution_count": 1,
   "metadata": {},
   "outputs": [
    {
     "name": "stderr",
     "output_type": "stream",
     "text": [
      "C:\\Users\\Magneto_Wang\\Anaconda3\\lib\\site-packages\\sklearn\\datasets\\base.py:762: DeprecationWarning: `imread` is deprecated!\n",
      "`imread` is deprecated in SciPy 1.0.0, and will be removed in 1.2.0.\n",
      "Use ``imageio.imread`` instead.\n",
      "  images = [imread(filename) for filename in filenames]\n",
      "C:\\Users\\Magneto_Wang\\Anaconda3\\lib\\site-packages\\sklearn\\datasets\\base.py:762: DeprecationWarning: `imread` is deprecated!\n",
      "`imread` is deprecated in SciPy 1.0.0, and will be removed in 1.2.0.\n",
      "Use ``imageio.imread`` instead.\n",
      "  images = [imread(filename) for filename in filenames]\n"
     ]
    }
   ],
   "source": [
    "import numpy as np\n",
    "import matplotlib.pyplot as plt\n",
    "from sklearn.cluster import KMeans\n",
    "from sklearn.metrics import pairwise_distances_argmin\n",
    "from sklearn.datasets import load_sample_image\n",
    "from sklearn.utils import shuffle\n",
    "from time import time\n",
    "\n",
    "n_colors = 64\n",
    "n_clusters=n_colors\n",
    "# Load the Summer Palace photo\n",
    "china = load_sample_image(\"china.jpg\")"
   ]
  },
  {
   "cell_type": "code",
   "execution_count": 2,
   "metadata": {},
   "outputs": [
    {
     "name": "stderr",
     "output_type": "stream",
     "text": [
      "C:\\Users\\Magneto_Wang\\Anaconda3\\lib\\site-packages\\sklearn\\datasets\\base.py:762: DeprecationWarning: `imread` is deprecated!\n",
      "`imread` is deprecated in SciPy 1.0.0, and will be removed in 1.2.0.\n",
      "Use ``imageio.imread`` instead.\n",
      "  images = [imread(filename) for filename in filenames]\n",
      "C:\\Users\\Magneto_Wang\\Anaconda3\\lib\\site-packages\\sklearn\\datasets\\base.py:762: DeprecationWarning: `imread` is deprecated!\n",
      "`imread` is deprecated in SciPy 1.0.0, and will be removed in 1.2.0.\n",
      "Use ``imageio.imread`` instead.\n",
      "  images = [imread(filename) for filename in filenames]\n"
     ]
    }
   ],
   "source": [
    "china = load_sample_image(\"china.jpg\")"
   ]
  },
  {
   "cell_type": "code",
   "execution_count": 3,
   "metadata": {},
   "outputs": [
    {
     "name": "stdout",
     "output_type": "stream",
     "text": [
      "(427, 640, 3)\n"
     ]
    }
   ],
   "source": [
    "print(china.shape)"
   ]
  },
  {
   "cell_type": "code",
   "execution_count": 4,
   "metadata": {},
   "outputs": [],
   "source": [
    "china = np.array(china, dtype=np.float64) / 255"
   ]
  },
  {
   "cell_type": "code",
   "execution_count": 5,
   "metadata": {},
   "outputs": [
    {
     "name": "stdout",
     "output_type": "stream",
     "text": [
      "(427, 640, 3)\n"
     ]
    }
   ],
   "source": [
    "print(china.shape)"
   ]
  },
  {
   "cell_type": "code",
   "execution_count": 6,
   "metadata": {},
   "outputs": [],
   "source": [
    "w, h, d = original_shape = tuple(china.shape)"
   ]
  },
  {
   "cell_type": "code",
   "execution_count": 7,
   "metadata": {},
   "outputs": [],
   "source": [
    "image_array = np.reshape(china, (w * h, d))"
   ]
  },
  {
   "cell_type": "code",
   "execution_count": 8,
   "metadata": {},
   "outputs": [],
   "source": [
    "image_array_sample = shuffle(image_array, random_state=0)[:1000]"
   ]
  },
  {
   "cell_type": "code",
   "execution_count": 9,
   "metadata": {},
   "outputs": [],
   "source": [
    "X=image_array_sample"
   ]
  },
  {
   "cell_type": "code",
   "execution_count": 22,
   "metadata": {},
   "outputs": [
    {
     "data": {
      "text/plain": [
       "array([[ 0.92156863,  0.9254902 ,  0.94509804],\n",
       "       [ 0.37647059,  0.37647059,  0.14117647],\n",
       "       [ 0.48235294,  0.42745098,  0.41568627],\n",
       "       ..., \n",
       "       [ 0.96862745,  0.96862745,  0.97647059],\n",
       "       [ 0.9372549 ,  0.96470588,  1.        ],\n",
       "       [ 0.11372549,  0.12156863,  0.07843137]])"
      ]
     },
     "execution_count": 22,
     "metadata": {},
     "output_type": "execute_result"
    }
   ],
   "source": [
    "image_array_sample"
   ]
  },
  {
   "cell_type": "code",
   "execution_count": 14,
   "metadata": {},
   "outputs": [],
   "source": [
    "import numpy as np\n",
    "import scipy.sparse as sp\n",
    "\n",
    "from sklearn.base import BaseEstimator, ClusterMixin, TransformerMixin\n",
    "from sklearn.metrics.pairwise import euclidean_distances\n",
    "from sklearn.metrics.pairwise import pairwise_distances_argmin_min\n",
    "from sklearn.utils.extmath import row_norms, squared_norm, stable_cumsum\n",
    "from sklearn.utils.sparsefuncs_fast import assign_rows_csr\n",
    "from sklearn.utils.sparsefuncs import mean_variance_axis\n",
    "from sklearn.utils import check_array\n",
    "from sklearn.utils import check_random_state\n",
    "from sklearn.utils import as_float_array\n",
    "from sklearn.utils import gen_batches\n",
    "from sklearn.utils.validation import check_is_fitted\n",
    "from sklearn.utils.validation import FLOAT_DTYPES\n",
    "from sklearn.externals.joblib import Parallel\n",
    "from sklearn.externals.joblib import delayed\n",
    "from sklearn.externals.six import string_types"
   ]
  },
  {
   "cell_type": "code",
   "execution_count": 19,
   "metadata": {},
   "outputs": [],
   "source": [
    "X = as_float_array(X, \"true\")"
   ]
  },
  {
   "cell_type": "code",
   "execution_count": 21,
   "metadata": {},
   "outputs": [
    {
     "data": {
      "text/plain": [
       "array([[ 0.92156863,  0.9254902 ,  0.94509804],\n",
       "       [ 0.37647059,  0.37647059,  0.14117647],\n",
       "       [ 0.48235294,  0.42745098,  0.41568627],\n",
       "       ..., \n",
       "       [ 0.96862745,  0.96862745,  0.97647059],\n",
       "       [ 0.9372549 ,  0.96470588,  1.        ],\n",
       "       [ 0.11372549,  0.12156863,  0.07843137]])"
      ]
     },
     "execution_count": 21,
     "metadata": {},
     "output_type": "execute_result"
    }
   ],
   "source": [
    "X"
   ]
  },
  {
   "cell_type": "code",
   "execution_count": 23,
   "metadata": {},
   "outputs": [],
   "source": [
    "tol=1e-4"
   ]
  },
  {
   "cell_type": "code",
   "execution_count": 25,
   "metadata": {},
   "outputs": [
    {
     "data": {
      "text/plain": [
       "1.1485336508522371e-05"
      ]
     },
     "execution_count": 25,
     "metadata": {},
     "output_type": "execute_result"
    }
   ],
   "source": [
    "variances = np.var(X, axis=0)\n",
    "np.mean(variances) * tol"
   ]
  },
  {
   "cell_type": "code",
   "execution_count": 26,
   "metadata": {},
   "outputs": [],
   "source": [
    "tol=1.1485336508522371e-05"
   ]
  },
  {
   "cell_type": "code",
   "execution_count": 27,
   "metadata": {},
   "outputs": [],
   "source": [
    "n_samples = X.shape[0]"
   ]
  },
  {
   "cell_type": "code",
   "execution_count": null,
   "metadata": {},
   "outputs": [],
   "source": []
  },
  {
   "cell_type": "code",
   "execution_count": 29,
   "metadata": {},
   "outputs": [],
   "source": [
    "precompute_distances = (n_colors * n_samples) < 12e6"
   ]
  },
  {
   "cell_type": "code",
   "execution_count": 30,
   "metadata": {},
   "outputs": [],
   "source": [
    "X_mean = X.mean(axis=0)\n",
    "X -= X_mean\n",
    "x_squared_norms = row_norms(X, squared=True)\n",
    "best_labels, best_inertia, best_centers = None, None, None"
   ]
  },
  {
   "cell_type": "code",
   "execution_count": 34,
   "metadata": {},
   "outputs": [],
   "source": [
    "def _kmeans_single_elkan(X, n_clusters, max_iter=300, init='k-means++',\n",
    "                         verbose=False, x_squared_norms=None,\n",
    "                         random_state=None, tol=1e-4,\n",
    "                         precompute_distances=True):\n",
    "    if sp.issparse(X):\n",
    "        raise ValueError(\"algorithm='elkan' not supported for sparse input X\")\n",
    "    X = check_array(X, order=\"C\")\n",
    "    random_state = check_random_state(random_state)\n",
    "    if x_squared_norms is None:\n",
    "        x_squared_norms = row_norms(X, squared=True)\n",
    "    # init\n",
    "    centers = _init_centroids(X, n_clusters, init, random_state=random_state,\n",
    "                              x_squared_norms=x_squared_norms)\n",
    "    centers = np.ascontiguousarray(centers)\n",
    "    if verbose:\n",
    "        print('Initialization complete')\n",
    "    centers, labels, n_iter = k_means_elkan(X, n_clusters, centers, tol=tol,\n",
    "                                            max_iter=max_iter, verbose=verbose)\n",
    "    inertia = np.sum((X - centers[labels]) ** 2, dtype=np.float64)\n",
    "    return labels, inertia, centers, n_iter\n"
   ]
  },
  {
   "cell_type": "code",
   "execution_count": 40,
   "metadata": {},
   "outputs": [],
   "source": [
    "def _init_centroids(X, k, init, random_state=None, x_squared_norms=None,\n",
    "                    init_size=None):\n",
    "\n",
    "    random_state = check_random_state(random_state)\n",
    "    n_samples = X.shape[0]\n",
    "\n",
    "    if x_squared_norms is None:\n",
    "        x_squared_norms = row_norms(X, squared=True)\n",
    "\n",
    "    if init_size is not None and init_size < n_samples:\n",
    "        if init_size < k:\n",
    "            warnings.warn(\n",
    "                \"init_size=%d should be larger than k=%d. \"\n",
    "                \"Setting it to 3*k\" % (init_size, k),\n",
    "                RuntimeWarning, stacklevel=2)\n",
    "            init_size = 3 * k\n",
    "        init_indices = random_state.randint(0, n_samples, init_size)\n",
    "        X = X[init_indices]\n",
    "        x_squared_norms = x_squared_norms[init_indices]\n",
    "        n_samples = X.shape[0]\n",
    "    elif n_samples < k:\n",
    "        raise ValueError(\n",
    "            \"n_samples=%d should be larger than k=%d\" % (n_samples, k))\n",
    "\n",
    "    if isinstance(init, string_types) and init == 'k-means++':\n",
    "        centers = _k_init(X, k, random_state=random_state,\n",
    "                          x_squared_norms=x_squared_norms)\n",
    "    elif isinstance(init, string_types) and init == 'random':\n",
    "        seeds = random_state.permutation(n_samples)[:k]\n",
    "        centers = X[seeds]\n",
    "    elif hasattr(init, '__array__'):\n",
    "        # ensure that the centers have the same dtype as X\n",
    "        # this is a requirement of fused types of cython\n",
    "        centers = np.array(init, dtype=X.dtype)\n",
    "    elif callable(init):\n",
    "        centers = init(X, k, random_state=random_state)\n",
    "        centers = np.asarray(centers, dtype=X.dtype)\n",
    "    else:\n",
    "        raise ValueError(\"the init parameter for the k-means should \"\n",
    "                         \"be 'k-means++' or 'random' or an ndarray, \"\n",
    "                         \"'%s' (type '%s') was passed.\" % (init, type(init)))\n",
    "\n",
    "    if sp.issparse(centers):\n",
    "        centers = centers.toarray()\n",
    "\n",
    "    _validate_center_shape(X, k, centers)\n",
    "    return centers"
   ]
  },
  {
   "cell_type": "code",
   "execution_count": 43,
   "metadata": {},
   "outputs": [],
   "source": [
    "def _k_init(X, n_clusters, x_squared_norms, random_state, n_local_trials=None):\n",
    "    n_samples, n_features = X.shape\n",
    "\n",
    "    centers = np.empty((n_clusters, n_features), dtype=X.dtype)\n",
    "\n",
    "    assert x_squared_norms is not None, 'x_squared_norms None in _k_init'\n",
    "\n",
    "    # Set the number of local seeding trials if none is given\n",
    "    if n_local_trials is None:\n",
    "        # This is what Arthur/Vassilvitskii tried, but did not report\n",
    "        # specific results for other than mentioning in the conclusion\n",
    "        # that it helped.\n",
    "        n_local_trials = 2 + int(np.log(n_clusters))\n",
    "\n",
    "    # Pick first center randomly\n",
    "    center_id = random_state.randint(n_samples)\n",
    "    if sp.issparse(X):\n",
    "        centers[0] = X[center_id].toarray()\n",
    "    else:\n",
    "        centers[0] = X[center_id]\n",
    "\n",
    "    # Initialize list of closest distances and calculate current potential\n",
    "    closest_dist_sq = euclidean_distances(\n",
    "        centers[0, np.newaxis], X, Y_norm_squared=x_squared_norms,\n",
    "        squared=True)\n",
    "    current_pot = closest_dist_sq.sum()\n",
    "\n",
    "    # Pick the remaining n_clusters-1 points\n",
    "    for c in range(1, n_clusters):\n",
    "        # Choose center candidates by sampling with probability proportional\n",
    "        # to the squared distance to the closest existing center\n",
    "        rand_vals = random_state.random_sample(n_local_trials) * current_pot\n",
    "        candidate_ids = np.searchsorted(stable_cumsum(closest_dist_sq),\n",
    "                                        rand_vals)\n",
    "\n",
    "        # Compute distances to center candidates\n",
    "        distance_to_candidates = euclidean_distances(\n",
    "            X[candidate_ids], X, Y_norm_squared=x_squared_norms, squared=True)\n",
    "\n",
    "        # Decide which candidate is the best\n",
    "        best_candidate = None\n",
    "        best_pot = None\n",
    "        best_dist_sq = None\n",
    "        for trial in range(n_local_trials):\n",
    "            # Compute potential when including center candidate\n",
    "            new_dist_sq = np.minimum(closest_dist_sq,\n",
    "                                     distance_to_candidates[trial])\n",
    "            new_pot = new_dist_sq.sum()\n",
    "\n",
    "            # Store result if it is the best local trial so far\n",
    "            if (best_candidate is None) or (new_pot < best_pot):\n",
    "                best_candidate = candidate_ids[trial]\n",
    "                best_pot = new_pot\n",
    "                best_dist_sq = new_dist_sq\n",
    "\n",
    "        # Permanently add best center candidate found in local tries\n",
    "        if sp.issparse(X):\n",
    "            centers[c] = X[best_candidate].toarray()\n",
    "        else:\n",
    "            centers[c] = X[best_candidate]\n",
    "        current_pot = best_pot\n",
    "        closest_dist_sq = best_dist_sq\n",
    "\n",
    "    return centers"
   ]
  },
  {
   "cell_type": "code",
   "execution_count": 45,
   "metadata": {},
   "outputs": [],
   "source": [
    "def _validate_center_shape(X, n_centers, centers):\n",
    "    \"\"\"Check if centers is compatible with X and n_centers\"\"\"\n",
    "    if len(centers) != n_centers:\n",
    "        raise ValueError('The shape of the initial centers (%s) '\n",
    "                         'does not match the number of clusters %i'\n",
    "                         % (centers.shape, n_centers))\n",
    "    if centers.shape[1] != X.shape[1]:\n",
    "        raise ValueError(\n",
    "            \"The number of features of the initial centers %s \"\n",
    "            \"does not match the number of features of the data %s.\"\n",
    "            % (centers.shape[1], X.shape[1]))"
   ]
  },
  {
   "cell_type": "code",
   "execution_count": 41,
   "metadata": {},
   "outputs": [],
   "source": [
    "kmeans_single = _kmeans_single_elkan"
   ]
  },
  {
   "cell_type": "code",
   "execution_count": 46,
   "metadata": {},
   "outputs": [
    {
     "ename": "NameError",
     "evalue": "name 'k_means_elkan' is not defined",
     "output_type": "error",
     "traceback": [
      "\u001b[1;31m---------------------------------------------------------------------------\u001b[0m",
      "\u001b[1;31mNameError\u001b[0m                                 Traceback (most recent call last)",
      "\u001b[1;32m<ipython-input-46-2b949d24daa6>\u001b[0m in \u001b[0;36m<module>\u001b[1;34m()\u001b[0m\n\u001b[0;32m      4\u001b[0m                          \u001b[0mverbose\u001b[0m\u001b[1;33m=\u001b[0m\u001b[1;32mFalse\u001b[0m\u001b[1;33m,\u001b[0m \u001b[0mx_squared_norms\u001b[0m\u001b[1;33m=\u001b[0m\u001b[1;32mNone\u001b[0m\u001b[1;33m,\u001b[0m\u001b[1;33m\u001b[0m\u001b[0m\n\u001b[0;32m      5\u001b[0m                          \u001b[0mrandom_state\u001b[0m\u001b[1;33m=\u001b[0m\u001b[1;32mNone\u001b[0m\u001b[1;33m,\u001b[0m \u001b[0mtol\u001b[0m\u001b[1;33m=\u001b[0m\u001b[1;36m1e-4\u001b[0m\u001b[1;33m,\u001b[0m\u001b[1;33m\u001b[0m\u001b[0m\n\u001b[1;32m----> 6\u001b[1;33m                          precompute_distances=True)\n\u001b[0m\u001b[0;32m      7\u001b[0m             \u001b[1;31m# determine if these results are the best so far\u001b[0m\u001b[1;33m\u001b[0m\u001b[1;33m\u001b[0m\u001b[0m\n\u001b[0;32m      8\u001b[0m     \u001b[1;32mif\u001b[0m \u001b[0mbest_inertia\u001b[0m \u001b[1;32mis\u001b[0m \u001b[1;32mNone\u001b[0m \u001b[1;32mor\u001b[0m \u001b[0minertia\u001b[0m \u001b[1;33m<\u001b[0m \u001b[0mbest_inertia\u001b[0m\u001b[1;33m:\u001b[0m\u001b[1;33m\u001b[0m\u001b[0m\n",
      "\u001b[1;32m<ipython-input-34-0d93ac9f2192>\u001b[0m in \u001b[0;36m_kmeans_single_elkan\u001b[1;34m(X, n_clusters, max_iter, init, verbose, x_squared_norms, random_state, tol, precompute_distances)\u001b[0m\n\u001b[0;32m     15\u001b[0m     \u001b[1;32mif\u001b[0m \u001b[0mverbose\u001b[0m\u001b[1;33m:\u001b[0m\u001b[1;33m\u001b[0m\u001b[0m\n\u001b[0;32m     16\u001b[0m         \u001b[0mprint\u001b[0m\u001b[1;33m(\u001b[0m\u001b[1;34m'Initialization complete'\u001b[0m\u001b[1;33m)\u001b[0m\u001b[1;33m\u001b[0m\u001b[0m\n\u001b[1;32m---> 17\u001b[1;33m     centers, labels, n_iter = k_means_elkan(X, n_clusters, centers, tol=tol,\n\u001b[0m\u001b[0;32m     18\u001b[0m                                             max_iter=max_iter, verbose=verbose)\n\u001b[0;32m     19\u001b[0m     \u001b[0minertia\u001b[0m \u001b[1;33m=\u001b[0m \u001b[0mnp\u001b[0m\u001b[1;33m.\u001b[0m\u001b[0msum\u001b[0m\u001b[1;33m(\u001b[0m\u001b[1;33m(\u001b[0m\u001b[0mX\u001b[0m \u001b[1;33m-\u001b[0m \u001b[0mcenters\u001b[0m\u001b[1;33m[\u001b[0m\u001b[0mlabels\u001b[0m\u001b[1;33m]\u001b[0m\u001b[1;33m)\u001b[0m \u001b[1;33m**\u001b[0m \u001b[1;36m2\u001b[0m\u001b[1;33m,\u001b[0m \u001b[0mdtype\u001b[0m\u001b[1;33m=\u001b[0m\u001b[0mnp\u001b[0m\u001b[1;33m.\u001b[0m\u001b[0mfloat64\u001b[0m\u001b[1;33m)\u001b[0m\u001b[1;33m\u001b[0m\u001b[0m\n",
      "\u001b[1;31mNameError\u001b[0m: name 'k_means_elkan' is not defined"
     ]
    }
   ],
   "source": [
    "for it in range(10):\n",
    "    labels, inertia, centers, n_iter_ = kmeans_single(\n",
    "        X, n_colors,max_iter=300, init='k-means++',\n",
    "                         verbose=False, x_squared_norms=None,\n",
    "                         random_state=None, tol=1e-4,\n",
    "                         precompute_distances=True)\n",
    "            # determine if these results are the best so far\n",
    "    if best_inertia is None or inertia < best_inertia:\n",
    "        best_labels = labels.copy()\n",
    "        best_centers = centers.copy()\n",
    "        best_inertia = inertia\n",
    "        best_n_iter = n_iter_"
   ]
  },
  {
   "cell_type": "code",
   "execution_count": null,
   "metadata": {},
   "outputs": [],
   "source": []
  }
 ],
 "metadata": {
  "kernelspec": {
   "display_name": "Python 3",
   "language": "python",
   "name": "python3"
  },
  "language_info": {
   "codemirror_mode": {
    "name": "ipython",
    "version": 3
   },
   "file_extension": ".py",
   "mimetype": "text/x-python",
   "name": "python",
   "nbconvert_exporter": "python",
   "pygments_lexer": "ipython3",
   "version": "3.6.4"
  }
 },
 "nbformat": 4,
 "nbformat_minor": 2
}
