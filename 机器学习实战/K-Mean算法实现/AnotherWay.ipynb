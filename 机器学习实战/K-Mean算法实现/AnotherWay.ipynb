{
 "cells": [
  {
   "cell_type": "code",
   "execution_count": 61,
   "metadata": {},
   "outputs": [
    {
     "name": "stdout",
     "output_type": "stream",
     "text": [
      "(427, 640, 3)\n"
     ]
    },
    {
     "name": "stderr",
     "output_type": "stream",
     "text": [
      "C:\\Users\\Magneto_Wang\\Anaconda3\\lib\\site-packages\\sklearn\\datasets\\base.py:762: DeprecationWarning: `imread` is deprecated!\n",
      "`imread` is deprecated in SciPy 1.0.0, and will be removed in 1.2.0.\n",
      "Use ``imageio.imread`` instead.\n",
      "  images = [imread(filename) for filename in filenames]\n",
      "C:\\Users\\Magneto_Wang\\Anaconda3\\lib\\site-packages\\sklearn\\datasets\\base.py:762: DeprecationWarning: `imread` is deprecated!\n",
      "`imread` is deprecated in SciPy 1.0.0, and will be removed in 1.2.0.\n",
      "Use ``imageio.imread`` instead.\n",
      "  images = [imread(filename) for filename in filenames]\n"
     ]
    }
   ],
   "source": [
    "import numpy as np\n",
    "import matplotlib.pyplot as plt\n",
    "from sklearn.cluster import KMeans\n",
    "from sklearn.metrics import pairwise_distances_argmin\n",
    "from sklearn.datasets import load_sample_image\n",
    "from sklearn.utils import shuffle\n",
    "from time import time\n",
    "\n",
    "n_colors = 64\n",
    "n_clusters=n_colors\n",
    "# Load the Summer Palace photo\n",
    "china = load_sample_image(\"china.jpg\")\n",
    "print(china.shape)\n",
    "\n",
    "china = np.array(china, dtype=np.float64) / 255\n",
    "w, h, d = original_shape = tuple(china.shape)\n",
    "image_array = np.reshape(china, (w * h, d))\n",
    "image_array_sample = shuffle(image_array, random_state=0)[:1000]"
   ]
  },
  {
   "cell_type": "code",
   "execution_count": 63,
   "metadata": {},
   "outputs": [
    {
     "data": {
      "text/plain": [
       "(1000, 3)"
      ]
     },
     "execution_count": 63,
     "metadata": {},
     "output_type": "execute_result"
    }
   ],
   "source": [
    "image_array_sample.shape"
   ]
  },
  {
   "cell_type": "code",
   "execution_count": 64,
   "metadata": {},
   "outputs": [],
   "source": [
    "def dist_eclud(vec_a, vec_b):\n",
    "    \"\"\"\n",
    "    计算距离\n",
    "    \"\"\"\n",
    "    return np.sqrt(np.sum(np.power(vec_a-vec_b, 2)))\n",
    "def rand_cent(data_set, k):\n",
    "    \"\"\"\n",
    "    随机选取质心\n",
    "    \"\"\"\n",
    "    m = np.shape(data_set)[1]\n",
    "    center = np.mat(np.zeros((k, m)))\n",
    "    for col in range(m):\n",
    "        min_col = min(data_set[:, col])\n",
    "        max_col = max(data_set[:, col])\n",
    "        center[:, col] = min_col + float((max_col-min_col)) * np.random.rand(k, 1)\n",
    "    return center\n",
    "def kmeans(data_set, k, dist_method=dist_eclud, cent_methon=rand_cent):\n",
    "    sample_count = np.shape(data_set)[0]\n",
    "    is_change = True\n",
    "    keep_result = np.mat(np.zeros((sample_count, 2)))\n",
    "    center_roids= cent_methon(data_set, k)\n",
    "    while is_change:\n",
    "        is_change = False\n",
    "        for sample_index in range(sample_count):\n",
    "            min_dist, min_index = np.Inf, -1\n",
    "            for j in range(k):\n",
    "                dist_j = dist_method(data_set[sample_index,:], center_roids[j,:])\n",
    "                if dist_j< min_dist:\n",
    "                    min_dist , min_index = dist_j , j\n",
    "            if keep_result[sample_index, 0] != min_index:\n",
    "                is_change = True\n",
    "            keep_result[sample_index,:] = min_index, min_dist**2\n",
    "        for cent_index in range(k):\n",
    "            temp_cluster = data_set[np.nonzero(keep_result[:,0].A==cent_index)[0]]\n",
    "            center_roids[cent_index,:] = np.mean(temp_cluster, axis=0)\n",
    "    return  keep_result"
   ]
  },
  {
   "cell_type": "code",
   "execution_count": 11,
   "metadata": {},
   "outputs": [
    {
     "name": "stderr",
     "output_type": "stream",
     "text": [
      "C:\\Users\\Magneto_Wang\\Anaconda3\\lib\\site-packages\\numpy\\core\\fromnumeric.py:2909: RuntimeWarning: Mean of empty slice.\n",
      "  out=out, **kwargs)\n",
      "C:\\Users\\Magneto_Wang\\Anaconda3\\lib\\site-packages\\numpy\\core\\_methods.py:73: RuntimeWarning: invalid value encountered in true_divide\n",
      "  ret, rcount, out=ret, casting='unsafe', subok=False)\n"
     ]
    }
   ],
   "source": [
    "result = kmeans(image_array_sample,n_colors+1)"
   ]
  },
  {
   "cell_type": "code",
   "execution_count": 13,
   "metadata": {},
   "outputs": [
    {
     "data": {
      "text/plain": [
       "(1000, 2)"
      ]
     },
     "execution_count": 13,
     "metadata": {},
     "output_type": "execute_result"
    }
   ],
   "source": [
    "result.shape"
   ]
  },
  {
   "cell_type": "code",
   "execution_count": 14,
   "metadata": {},
   "outputs": [],
   "source": [
    "X=image_array"
   ]
  },
  {
   "cell_type": "code",
   "execution_count": 15,
   "metadata": {},
   "outputs": [],
   "source": [
    "norms = np.einsum('ij,ij->i', X, X)"
   ]
  },
  {
   "cell_type": "code",
   "execution_count": null,
   "metadata": {},
   "outputs": [],
   "source": [
    "n_samples = X.shape[0]\n",
    "labels = -np.ones(n_samples, np.int32)\n",
    "distances = np.zeros(shape=(0,), dtype=X.dtype)"
   ]
  },
  {
   "cell_type": "code",
   "execution_count": null,
   "metadata": {},
   "outputs": [],
   "source": [
    "    n_samples = X.shape[0]\n",
    "    labels, mindist = pairwise_distances_argmin_min(\n",
    "        X=X, Y=centers, metric='euclidean', metric_kwargs={'squared': True})\n",
    "    # cython k-means code assumes int32 inputs\n",
    "    labels = labels.astype(np.int32)\n",
    "    inertia = mindist.sum()\n",
    "    return labels, inertia"
   ]
  },
  {
   "cell_type": "code",
   "execution_count": 24,
   "metadata": {},
   "outputs": [],
   "source": [
    "def row_norms(X, squared=False):\n",
    "    \"\"\"Row-wise (squared) Euclidean norm of X.\n",
    "\n",
    "    Equivalent to np.sqrt((X * X).sum(axis=1)), but also supports sparse\n",
    "    matrices and does not create an X.shape-sized temporary.\n",
    "\n",
    "    Performs no input validation.\n",
    "    \"\"\"\n",
    "    norms = np.einsum('ij,ij->i', X, X)\n",
    "\n",
    "    if not squared:\n",
    "        np.sqrt(norms, norms)\n",
    "    return norms"
   ]
  },
  {
   "cell_type": "code",
   "execution_count": 17,
   "metadata": {},
   "outputs": [
    {
     "data": {
      "text/plain": [
       "(1000, 3)"
      ]
     },
     "execution_count": 17,
     "metadata": {},
     "output_type": "execute_result"
    }
   ],
   "source": [
    "image_array_sample.shape"
   ]
  },
  {
   "cell_type": "code",
   "execution_count": 18,
   "metadata": {},
   "outputs": [],
   "source": [
    "X=image_array_sample\n",
    "n_clusters=3"
   ]
  },
  {
   "cell_type": "code",
   "execution_count": 19,
   "metadata": {},
   "outputs": [],
   "source": [
    "n_samples = X.shape[0]\n",
    "precompute_distances = (n_clusters * n_samples) < 12e6"
   ]
  },
  {
   "cell_type": "code",
   "execution_count": 20,
   "metadata": {},
   "outputs": [],
   "source": [
    "X_mean = X.mean(axis=0)\n",
    "X -= X_mean"
   ]
  },
  {
   "cell_type": "code",
   "execution_count": 25,
   "metadata": {},
   "outputs": [],
   "source": [
    "x_squared_norms = row_norms(X, squared=True)"
   ]
  },
  {
   "cell_type": "code",
   "execution_count": 26,
   "metadata": {},
   "outputs": [],
   "source": [
    "best_labels, best_inertia, best_centers = None, None, None"
   ]
  },
  {
   "cell_type": "code",
   "execution_count": 40,
   "metadata": {},
   "outputs": [],
   "source": [
    "from numpy import *  \n",
    "import time  \n",
    "import matplotlib.pyplot as plt"
   ]
  },
  {
   "cell_type": "code",
   "execution_count": 67,
   "metadata": {},
   "outputs": [],
   "source": [
    "def initCentroids(dataSet, k):  \n",
    "\tnumSamples, dim = dataSet.shape   #矩阵的行数、列数 \n",
    "\tcentroids = zeros((k, dim))  \t\t#感觉要不要你都可以\n",
    "\tfor i in range(k):  \n",
    "\t\tindex = int(random.uniform(0, numSamples))  #随机产生一个浮点数，然后将其转化为int型\n",
    "\t\tcentroids[i, :] = dataSet[index, :]  \n",
    "\treturn centroids  "
   ]
  },
  {
   "cell_type": "code",
   "execution_count": 44,
   "metadata": {},
   "outputs": [
    {
     "data": {
      "text/plain": [
       "array([[-0.11921176, -0.22951373, -0.2546    ],\n",
       "       [ 0.23372941,  0.17048627,  0.14147843],\n",
       "       [ 0.07686667,  0.06460392, -0.04283529]])"
      ]
     },
     "execution_count": 44,
     "metadata": {},
     "output_type": "execute_result"
    }
   ],
   "source": [
    "initCentroids(X,n_clusters)"
   ]
  },
  {
   "cell_type": "code",
   "execution_count": 65,
   "metadata": {},
   "outputs": [],
   "source": [
    "# k-means cluster \n",
    "#dataSet为一个矩阵\n",
    "#k为将dataSet矩阵中的样本分成k个类 \n",
    "def kmeans(dataSet, k):  \n",
    "\tnumSamples = dataSet.shape[0]  #读取矩阵dataSet的第一维度的长度,即获得有多少个样本数据\n",
    "    # first column stores which cluster this sample belongs to,  \n",
    "    # second column stores the error between this sample and its centroid  \n",
    "\tclusterAssment = mat(zeros((numSamples, 2)))  #得到一个N*2的零矩阵\n",
    "\tclusterChanged = True  \n",
    "  \n",
    "    ## step 1: init centroids  \n",
    "\tcentroids = initCentroids(dataSet, k)  #在样本集中随机选取k个样本点作为初始质心\n",
    "  \n",
    "\twhile clusterChanged:  \n",
    "\t\tclusterChanged = False  \n",
    "        ## for each sample  \n",
    "\t\tfor i in range(numSamples):  #range\n",
    "\t\t\tminDist  = 100000.0  \n",
    "\t\t\tminIndex = 0  \n",
    "            ## for each centroid  \n",
    "            ## step 2: find the centroid who is closest  \n",
    "\t\t\t#计算每个样本点与质点之间的距离，将其归内到距离最小的那一簇\n",
    "\t\t\tfor j in range(k):  \n",
    "\t\t\t\tdistance = euclDistance(centroids[j, :], dataSet[i, :])  \n",
    "\t\t\t\tif distance < minDist:  \n",
    "\t\t\t\t\tminDist  = distance  \n",
    "\t\t\t\t\tminIndex = j  \n",
    "              \n",
    "            ## step 3: update its cluster \n",
    "\t\t\t#k个簇里面与第i个样本距离最小的的标号和距离保存在clusterAssment中\n",
    "\t\t\t#若所有的样本不在变化，则退出while循环\n",
    "\t\t\tif clusterAssment[i, 0] != minIndex:  \n",
    "\t\t\t\tclusterChanged = True  \n",
    "\t\t\t\tclusterAssment[i, :] = minIndex, minDist**2  #两个**表示的是minDist的平方\n",
    "  \n",
    "        ## step 4: update centroids  \n",
    "\t\tfor j in range(k):  \n",
    "\t\t\t#clusterAssment[:,0].A==j是找出矩阵clusterAssment中第一列元素中等于j的行的下标，返回的是一个以array的列表，第一个array为等于j的下标\n",
    "\t\t\tpointsInCluster = dataSet[nonzero(clusterAssment[:, 0].A == j)[0]] #将dataSet矩阵中相对应的样本提取出来 \n",
    "\t\t\tcentroids[j, :] = mean(pointsInCluster, axis = 0)  #计算标注为j的所有样本的平均值\n",
    "  \n",
    "\tprint ('Congratulations, cluster complete!')  \n",
    "\treturn centroids, clusterAssment  \n",
    "  \n",
    "# show your cluster only available with 2-D data \n",
    "#centroids为k个类别，其中保存着每个类别的质心\n",
    "#clusterAssment为样本的标记，第一列为此样本的类别号，第二列为到此类别质心的距离 \n",
    "def showCluster(dataSet, k, centroids, clusterAssment):  \n",
    "\tnumSamples, dim = dataSet.shape  \n",
    "\tif dim != 3:  \n",
    "\t\tprint (\"Sorry! I can not draw because the dimension of your data is not 2!\")  \n",
    "\t\treturn 1  \n",
    "  \n",
    "\tmark = ['or', 'ob', 'og', 'ok', '^r', '+r', 'sr', 'dr', '<r', 'pr']  \n",
    "\tif k > len(mark):  \n",
    "\t\tprint (\"Sorry! Your k is too large! please contact wojiushimogui\")  \n",
    "\t\treturn 1 \n",
    "     \n",
    "  \n",
    "    # draw all samples  \n",
    "\tfor i in range(numSamples):  \n",
    "\t\tmarkIndex = int(clusterAssment[i, 0])  #为样本指定颜色\n",
    "\t\tplt.plot(dataSet[i, 0], dataSet[i, 1], mark[markIndex])  \n",
    "  \n",
    "\tmark = ['Dr', 'Db', 'Dg', 'Dk', '^b', '+b', 'sb', 'db', '<b', 'pb']  \n",
    "    # draw the centroids  \n",
    "\tfor i in range(k):  \n",
    "\t\tplt.plot(centroids[i, 0], centroids[i, 1], mark[i], markersize = 12)  \n",
    "  \n",
    "\tplt.show() "
   ]
  },
  {
   "cell_type": "code",
   "execution_count": 66,
   "metadata": {},
   "outputs": [],
   "source": [
    "# calculate Euclidean distance  \n",
    "def euclDistance(vector1, vector2):  \n",
    "\treturn sqrt(sum(power(vector2 - vector1, 2)))  #求这两个矩阵的距离，vector1、2均为矩阵"
   ]
  },
  {
   "cell_type": "code",
   "execution_count": 68,
   "metadata": {},
   "outputs": [
    {
     "name": "stdout",
     "output_type": "stream",
     "text": [
      "Congratulations, cluster complete!\n"
     ]
    }
   ],
   "source": [
    "centroids, clusterAssment=kmeans(X, 3)"
   ]
  },
  {
   "cell_type": "code",
   "execution_count": 69,
   "metadata": {},
   "outputs": [
    {
     "data": {
      "image/png": "[encoded data removed]",
      "text/plain": [
       "<matplotlib.figure.Figure at 0x232cdfe8588>"
      ]
     },
     "metadata": {},
     "output_type": "display_data"
    }
   ],
   "source": [
    "showCluster(X, 3, centroids, clusterAssment)"
   ]
  },
  {
   "cell_type": "code",
   "execution_count": 73,
   "metadata": {},
   "outputs": [
    {
     "data": {
      "text/plain": [
       "(3, 3)"
      ]
     },
     "execution_count": 73,
     "metadata": {},
     "output_type": "execute_result"
    }
   ],
   "source": [
    "centroids.shape"
   ]
  },
  {
   "cell_type": "code",
   "execution_count": 74,
   "metadata": {},
   "outputs": [
    {
     "data": {
      "text/plain": [
       "(1000, 2)"
      ]
     },
     "execution_count": 74,
     "metadata": {},
     "output_type": "execute_result"
    }
   ],
   "source": [
    "clusterAssment.shape"
   ]
  },
  {
   "cell_type": "code",
   "execution_count": 75,
   "metadata": {},
   "outputs": [
    {
     "data": {
      "text/plain": [
       "array([[ 0.28279622,  0.3221317 ,  0.38386055],\n",
       "       [-0.05168467, -0.09394659, -0.18025566],\n",
       "       [-0.3823157 , -0.40832957, -0.43367215]])"
      ]
     },
     "execution_count": 75,
     "metadata": {},
     "output_type": "execute_result"
    }
   ],
   "source": [
    "centroids"
   ]
  },
  {
   "cell_type": "code",
   "execution_count": 76,
   "metadata": {},
   "outputs": [
    {
     "data": {
      "text/plain": [
       "matrix([[ 0.        ,  0.        ],\n",
       "        [ 1.        ,  0.21831603],\n",
       "        [ 1.        ,  0.4669281 ],\n",
       "        ..., \n",
       "        [ 0.        ,  0.        ],\n",
       "        [ 0.        ,  0.        ],\n",
       "        [ 2.        ,  0.02097067]])"
      ]
     },
     "execution_count": 76,
     "metadata": {},
     "output_type": "execute_result"
    }
   ],
   "source": [
    "clusterAssment"
   ]
  },
  {
   "cell_type": "code",
   "execution_count": 77,
   "metadata": {},
   "outputs": [
    {
     "data": {
      "text/plain": [
       "(1000, 3)"
      ]
     },
     "execution_count": 77,
     "metadata": {},
     "output_type": "execute_result"
    }
   ],
   "source": [
    "X.shape"
   ]
  },
  {
   "cell_type": "code",
   "execution_count": 80,
   "metadata": {},
   "outputs": [],
   "source": [
    "def predict_data(dataSet, k,centroids, clusterAssment):\n",
    "    numSamples = dataSet.shape[0]\n",
    "    label=[]\n",
    "    predict_Assment = mat(zeros((numSamples, 2)))\n",
    "    \n",
    "    clusterChanged = True\n",
    "    for i in range(numSamples):\n",
    "        minDist  = 100000.0 \n",
    "        minIndex = 0\n",
    "        for j in range(k):  \n",
    "            distance = euclDistance(centroids[j, :], dataSet[i, :])\n",
    "            if distance < minDist:\n",
    "                minDist  = distance\n",
    "                minIndex = j\n",
    "            if predict_Assment[i, 0] != minIndex:\n",
    "                clusterChanged = True\n",
    "                predict_Assment[i, :] = minIndex, minDist**2 \n",
    "                \n",
    "                \n",
    "    return predict_Assment\n",
    "        \n",
    "        #print(\"minIndex = \"+str(minIndex))"
   ]
  },
  {
   "cell_type": "code",
   "execution_count": null,
   "metadata": {},
   "outputs": [],
   "source": []
  },
  {
   "cell_type": "code",
   "execution_count": 123,
   "metadata": {},
   "outputs": [],
   "source": [
    "def recreate_image(codebook, labels, w, h):\n",
    "    \"\"\"Recreate the (compressed) image from the code book & labels\"\"\"\n",
    "    d = codebook.shape[1]\n",
    "    image = np.zeros((w, h, d))\n",
    "    label_idx = 0\n",
    "    for i in range(w):\n",
    "        for j in range(h):\n",
    "            #labelIndex,dist= labels[i, :]\n",
    "            image[i][j] = codebook[int(label[label_idx, :][0,:1])]\n",
    "            label_idx += 1\n",
    "    return image"
   ]
  },
  {
   "cell_type": "code",
   "execution_count": 82,
   "metadata": {},
   "outputs": [],
   "source": [
    "label=predict_data(image_array,3,centroids, clusterAssment)"
   ]
  },
  {
   "cell_type": "code",
   "execution_count": 120,
   "metadata": {},
   "outputs": [
    {
     "data": {
      "text/plain": [
       "0"
      ]
     },
     "execution_count": 120,
     "metadata": {},
     "output_type": "execute_result"
    }
   ],
   "source": [
    "label.shape\n",
    "int(label[10, :][0,:1])"
   ]
  },
  {
   "cell_type": "code",
   "execution_count": 124,
   "metadata": {},
   "outputs": [],
   "source": [
    "image=recreate_image(centroids,label,w,h)"
   ]
  },
  {
   "cell_type": "code",
   "execution_count": 127,
   "metadata": {},
   "outputs": [
    {
     "data": {
      "text/plain": [
       "<matplotlib.image.AxesImage at 0x232cf168da0>"
      ]
     },
     "execution_count": 127,
     "metadata": {},
     "output_type": "execute_result"
    },
    {
     "data": {
      "image/png": "[encoded data removed]",
      "text/plain": [
       "<matplotlib.figure.Figure at 0x232cf200978>"
      ]
     },
     "metadata": {},
     "output_type": "display_data"
    }
   ],
   "source": [
    "plt.figure(1)\n",
    "plt.clf()\n",
    "ax = plt.axes([0, 0, 1, 1])\n",
    "plt.axis('off')\n",
    "#plt.title('Quantized image (64 colors, K-Means)')\n",
    "plt.imshow(image)"
   ]
  },
  {
   "cell_type": "code",
   "execution_count": null,
   "metadata": {},
   "outputs": [],
   "source": []
  }
 ],
 "metadata": {
  "kernelspec": {
   "display_name": "Python 3",
   "language": "python",
   "name": "python3"
  },
  "language_info": {
   "codemirror_mode": {
    "name": "ipython",
    "version": 3
   },
   "file_extension": ".py",
   "mimetype": "text/x-python",
   "name": "python",
   "nbconvert_exporter": "python",
   "pygments_lexer": "ipython3",
   "version": "3.6.4"
  }
 },
 "nbformat": 4,
 "nbformat_minor": 2
}
