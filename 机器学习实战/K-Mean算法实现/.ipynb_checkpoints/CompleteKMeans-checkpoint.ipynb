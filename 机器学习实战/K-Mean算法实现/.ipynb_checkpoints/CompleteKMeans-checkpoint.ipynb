{
 "cells": [
  {
   "cell_type": "code",
   "execution_count": 1,
   "metadata": {},
   "outputs": [
    {
     "name": "stderr",
     "output_type": "stream",
     "text": [
      "C:\\Users\\Magneto_Wang\\Anaconda3\\lib\\site-packages\\sklearn\\datasets\\base.py:762: DeprecationWarning: `imread` is deprecated!\n",
      "`imread` is deprecated in SciPy 1.0.0, and will be removed in 1.2.0.\n",
      "Use ``imageio.imread`` instead.\n",
      "  images = [imread(filename) for filename in filenames]\n",
      "C:\\Users\\Magneto_Wang\\Anaconda3\\lib\\site-packages\\sklearn\\datasets\\base.py:762: DeprecationWarning: `imread` is deprecated!\n",
      "`imread` is deprecated in SciPy 1.0.0, and will be removed in 1.2.0.\n",
      "Use ``imageio.imread`` instead.\n",
      "  images = [imread(filename) for filename in filenames]\n"
     ]
    }
   ],
   "source": [
    "import numpy as np\n",
    "import matplotlib.pyplot as plt\n",
    "from sklearn.cluster import KMeans\n",
    "from sklearn.metrics import pairwise_distances_argmin\n",
    "from sklearn.datasets import load_sample_image\n",
    "from sklearn.utils import shuffle\n",
    "from time import time\n",
    "\n",
    "n_colors = 64\n",
    "n_clusters=n_colors\n",
    "# Load the Summer Palace photo\n",
    "china = load_sample_image(\"china.jpg\")"
   ]
  },
  {
   "cell_type": "code",
   "execution_count": 2,
   "metadata": {},
   "outputs": [
    {
     "name": "stderr",
     "output_type": "stream",
     "text": [
      "C:\\Users\\Magneto_Wang\\Anaconda3\\lib\\site-packages\\sklearn\\datasets\\base.py:762: DeprecationWarning: `imread` is deprecated!\n",
      "`imread` is deprecated in SciPy 1.0.0, and will be removed in 1.2.0.\n",
      "Use ``imageio.imread`` instead.\n",
      "  images = [imread(filename) for filename in filenames]\n",
      "C:\\Users\\Magneto_Wang\\Anaconda3\\lib\\site-packages\\sklearn\\datasets\\base.py:762: DeprecationWarning: `imread` is deprecated!\n",
      "`imread` is deprecated in SciPy 1.0.0, and will be removed in 1.2.0.\n",
      "Use ``imageio.imread`` instead.\n",
      "  images = [imread(filename) for filename in filenames]\n"
     ]
    }
   ],
   "source": [
    "china = load_sample_image(\"china.jpg\")"
   ]
  },
  {
   "cell_type": "code",
   "execution_count": 3,
   "metadata": {},
   "outputs": [
    {
     "name": "stdout",
     "output_type": "stream",
     "text": [
      "(427, 640, 3)\n"
     ]
    }
   ],
   "source": [
    "print(china.shape)"
   ]
  },
  {
   "cell_type": "code",
   "execution_count": 4,
   "metadata": {},
   "outputs": [],
   "source": [
    "china = np.array(china, dtype=np.float64) / 255"
   ]
  },
  {
   "cell_type": "code",
   "execution_count": 5,
   "metadata": {},
   "outputs": [
    {
     "name": "stdout",
     "output_type": "stream",
     "text": [
      "(427, 640, 3)\n"
     ]
    }
   ],
   "source": [
    "print(china.shape)"
   ]
  },
  {
   "cell_type": "code",
   "execution_count": 6,
   "metadata": {},
   "outputs": [],
   "source": [
    "w, h, d = original_shape = tuple(china.shape)"
   ]
  },
  {
   "cell_type": "code",
   "execution_count": 7,
   "metadata": {},
   "outputs": [],
   "source": [
    "image_array = np.reshape(china, (w * h, d))"
   ]
  },
  {
   "cell_type": "code",
   "execution_count": 8,
   "metadata": {},
   "outputs": [],
   "source": [
    "image_array_sample = shuffle(image_array, random_state=0)[:1000]"
   ]
  },
  {
   "cell_type": "code",
   "execution_count": 9,
   "metadata": {},
   "outputs": [],
   "source": [
    "X=image_array_sample"
   ]
  },
  {
   "cell_type": "code",
   "execution_count": 22,
   "metadata": {},
   "outputs": [
    {
     "data": {
      "text/plain": [
       "array([[ 0.92156863,  0.9254902 ,  0.94509804],\n",
       "       [ 0.37647059,  0.37647059,  0.14117647],\n",
       "       [ 0.48235294,  0.42745098,  0.41568627],\n",
       "       ..., \n",
       "       [ 0.96862745,  0.96862745,  0.97647059],\n",
       "       [ 0.9372549 ,  0.96470588,  1.        ],\n",
       "       [ 0.11372549,  0.12156863,  0.07843137]])"
      ]
     },
     "execution_count": 22,
     "metadata": {},
     "output_type": "execute_result"
    }
   ],
   "source": [
    "image_array_sample"
   ]
  },
  {
   "cell_type": "code",
   "execution_count": 14,
   "metadata": {},
   "outputs": [],
   "source": [
    "import numpy as np\n",
    "import scipy.sparse as sp\n",
    "\n",
    "from sklearn.base import BaseEstimator, ClusterMixin, TransformerMixin\n",
    "from sklearn.metrics.pairwise import euclidean_distances\n",
    "from sklearn.metrics.pairwise import pairwise_distances_argmin_min\n",
    "from sklearn.utils.extmath import row_norms, squared_norm, stable_cumsum\n",
    "from sklearn.utils.sparsefuncs_fast import assign_rows_csr\n",
    "from sklearn.utils.sparsefuncs import mean_variance_axis\n",
    "from sklearn.utils import check_array\n",
    "from sklearn.utils import check_random_state\n",
    "from sklearn.utils import as_float_array\n",
    "from sklearn.utils import gen_batches\n",
    "from sklearn.utils.validation import check_is_fitted\n",
    "from sklearn.utils.validation import FLOAT_DTYPES\n",
    "from sklearn.externals.joblib import Parallel\n",
    "from sklearn.externals.joblib import delayed\n",
    "from sklearn.externals.six import string_types"
   ]
  },
  {
   "cell_type": "code",
   "execution_count": 19,
   "metadata": {},
   "outputs": [],
   "source": [
    "X = as_float_array(X, \"true\")"
   ]
  },
  {
   "cell_type": "code",
   "execution_count": 21,
   "metadata": {},
   "outputs": [
    {
     "data": {
      "text/plain": [
       "array([[ 0.92156863,  0.9254902 ,  0.94509804],\n",
       "       [ 0.37647059,  0.37647059,  0.14117647],\n",
       "       [ 0.48235294,  0.42745098,  0.41568627],\n",
       "       ..., \n",
       "       [ 0.96862745,  0.96862745,  0.97647059],\n",
       "       [ 0.9372549 ,  0.96470588,  1.        ],\n",
       "       [ 0.11372549,  0.12156863,  0.07843137]])"
      ]
     },
     "execution_count": 21,
     "metadata": {},
     "output_type": "execute_result"
    }
   ],
   "source": [
    "X"
   ]
  },
  {
   "cell_type": "code",
   "execution_count": 23,
   "metadata": {},
   "outputs": [],
   "source": [
    "tol=1e-4"
   ]
  },
  {
   "cell_type": "code",
   "execution_count": 25,
   "metadata": {},
   "outputs": [
    {
     "data": {
      "text/plain": [
       "1.1485336508522371e-05"
      ]
     },
     "execution_count": 25,
     "metadata": {},
     "output_type": "execute_result"
    }
   ],
   "source": [
    "variances = np.var(X, axis=0)\n",
    "np.mean(variances) * tol"
   ]
  },
  {
   "cell_type": "code",
   "execution_count": 26,
   "metadata": {},
   "outputs": [],
   "source": [
    "tol=1.1485336508522371e-05"
   ]
  },
  {
   "cell_type": "code",
   "execution_count": 27,
   "metadata": {},
   "outputs": [],
   "source": [
    "n_samples = X.shape[0]"
   ]
  },
  {
   "cell_type": "code",
   "execution_count": null,
   "metadata": {},
   "outputs": [],
   "source": []
  },
  {
   "cell_type": "code",
   "execution_count": 29,
   "metadata": {},
   "outputs": [],
   "source": [
    "precompute_distances = (n_colors * n_samples) < 12e6"
   ]
  },
  {
   "cell_type": "code",
   "execution_count": 30,
   "metadata": {},
   "outputs": [],
   "source": [
    "X_mean = X.mean(axis=0)\n",
    "X -= X_mean\n",
    "x_squared_norms = row_norms(X, squared=True)\n",
    "best_labels, best_inertia, best_centers = None, None, None"
   ]
  },
  {
   "cell_type": "code",
   "execution_count": 31,
   "metadata": {},
   "outputs": [
    {
     "ename": "NameError",
     "evalue": "name '_kmeans_single_elkan' is not defined",
     "output_type": "error",
     "traceback": [
      "\u001b[1;31m---------------------------------------------------------------------------\u001b[0m",
      "\u001b[1;31mNameError\u001b[0m                                 Traceback (most recent call last)",
      "\u001b[1;32m<ipython-input-31-29ea1ee3c948>\u001b[0m in \u001b[0;36m<module>\u001b[1;34m()\u001b[0m\n\u001b[1;32m----> 1\u001b[1;33m \u001b[0mkmeans_single\u001b[0m \u001b[1;33m=\u001b[0m \u001b[0m_kmeans_single_elkan\u001b[0m\u001b[1;33m\u001b[0m\u001b[0m\n\u001b[0m",
      "\u001b[1;31mNameError\u001b[0m: name '_kmeans_single_elkan' is not defined"
     ]
    }
   ],
   "source": [
    "kmeans_single = _kmeans_single_elkan"
   ]
  },
  {
   "cell_type": "code",
   "execution_count": 32,
   "metadata": {},
   "outputs": [
    {
     "ename": "IndentationError",
     "evalue": "unexpected indent (<ipython-input-32-d05185f44bef>, line 9)",
     "output_type": "error",
     "traceback": [
      "\u001b[1;36m  File \u001b[1;32m\"<ipython-input-32-d05185f44bef>\"\u001b[1;36m, line \u001b[1;32m9\u001b[0m\n\u001b[1;33m    if best_inertia is None or inertia < best_inertia:\u001b[0m\n\u001b[1;37m    ^\u001b[0m\n\u001b[1;31mIndentationError\u001b[0m\u001b[1;31m:\u001b[0m unexpected indent\n"
     ]
    }
   ],
   "source": [
    "for it in range(10):\n",
    "    \n",
    "    labels, inertia, centers, n_iter_ = kmeans_single(\n",
    "        X, n_clusters, max_iter=max_iter, init=init, verbose=verbose,\n",
    "        precompute_distances=precompute_distances, tol=tol,\n",
    "        x_squared_norms=x_squared_norms, random_state=random_state)\n",
    "            # determine if these results are the best so far\n",
    "    if best_inertia is None or inertia < best_inertia:\n",
    "        best_labels = labels.copy()\n",
    "        best_centers = centers.copy()\n",
    "        best_inertia = inertia\n",
    "        best_n_iter = n_iter_"
   ]
  },
  {
   "cell_type": "code",
   "execution_count": null,
   "metadata": {},
   "outputs": [],
   "source": []
  }
 ],
 "metadata": {
  "kernelspec": {
   "display_name": "Python 3",
   "language": "python",
   "name": "python3"
  },
  "language_info": {
   "codemirror_mode": {
    "name": "ipython",
    "version": 3
   },
   "file_extension": ".py",
   "mimetype": "text/x-python",
   "name": "python",
   "nbconvert_exporter": "python",
   "pygments_lexer": "ipython3",
   "version": "3.6.4"
  }
 },
 "nbformat": 4,
 "nbformat_minor": 2
}
